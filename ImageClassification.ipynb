{
  "cells": [
    {
      "cell_type": "markdown",
      "metadata": {
        "id": "J0FrO7oyPJ-J"
      },
      "source": [
        "**Explanation**\n",
        "\n",
        "Data Preprocessing: Normalize CIFAR-10 images to have values between -1 and 1.\n",
        "Model Architecture: A simple CNN with:\n",
        "2 Convolutional layers.\n",
        "\n",
        "ReLU activations, followed by MaxPooling.\n",
        "Fully connected layer to predict 10 classes.\n",
        "\n",
        "Training: Use Cross-Entropy Loss with the Adam optimizer.\n",
        "\n",
        "Evaluation: Calculate accuracy on the test set.\n",
        "\n",
        "Notes\n",
        "Device: For better performance, move model, images, and labels to a GPU if available by setting device = torch.device(\"cuda\" if torch.cuda.is_available() else \"cpu\").\n",
        "\n",
        "Hyperparameters: Tweak num_epochs, learning_rate, and batch_size for experimentation."
      ]
    },
    {
      "cell_type": "code",
      "execution_count": null,
      "metadata": {
        "id": "OVBK-Aq2CYrs"
      },
      "outputs": [],
      "source": [
        "import torch\n",
        "import torch.nn as nn\n",
        "import torch.optim as optim\n",
        "import torchvision\n",
        "from torch.utils.data import DataLoader\n",
        "import torchvision.transforms as transforms\n",
        "import numpy as np\n",
        "import random\n",
        "from torchvision.models import densenet121"
      ]
    },
    {
      "cell_type": "code",
      "execution_count": null,
      "metadata": {
        "id": "BcrPM87fQCY_"
      },
      "outputs": [],
      "source": [
        "device = torch.device(\"cuda\" if torch.cuda.is_available() else \"cpu\")"
      ]
    },
    {
      "cell_type": "code",
      "execution_count": null,
      "metadata": {
        "id": "53OVnJjcC4-a"
      },
      "outputs": [],
      "source": [
        "#Hyperparameters\n",
        "batch_size = 64\n",
        "num_epochs = 5\n",
        "learning_rate = 0.001\n",
        "\n",
        "# Set random seed for reproducibility\n",
        "random_seed = 42\n",
        "torch.manual_seed(random_seed)\n",
        "np.random.seed(random_seed)\n",
        "random.seed(random_seed)"
      ]
    },
    {
      "cell_type": "code",
      "execution_count": null,
      "metadata": {
        "id": "xJ9AsGkRDEBZ"
      },
      "outputs": [],
      "source": [
        "#Data transformation\n",
        "# transform = transforms.Compose([transforms.ToTensor(),transforms.Normalize((0.5,0.5,0.5),(0.5,0.5,0.5))]) #Normalize\n",
        "\n",
        "# Data Augumentation\n",
        "transform = transforms.Compose([\n",
        "    transforms.RandomHorizontalFlip(),\n",
        "    transforms.RandomCrop(32, padding=4),\n",
        "    transforms.ToTensor(),\n",
        "    transforms.Normalize((0.5, 0.5, 0.5), (0.5, 0.5, 0.5))\n",
        "])"
      ]
    },
    {
      "cell_type": "code",
      "execution_count": null,
      "metadata": {
        "colab": {
          "base_uri": "https://localhost:8080/"
        },
        "id": "_aW6Y02fDjqo",
        "outputId": "ef41a251-3724-4d91-da82-9eb23f0c2846"
      },
      "outputs": [
        {
          "name": "stdout",
          "output_type": "stream",
          "text": [
            "Downloading https://www.cs.toronto.edu/~kriz/cifar-10-python.tar.gz to ./data/cifar-10-python.tar.gz\n"
          ]
        },
        {
          "name": "stderr",
          "output_type": "stream",
          "text": [
            "100%|██████████| 170M/170M [00:02<00:00, 75.4MB/s]\n"
          ]
        },
        {
          "name": "stdout",
          "output_type": "stream",
          "text": [
            "Extracting ./data/cifar-10-python.tar.gz to ./data\n",
            "Files already downloaded and verified\n"
          ]
        }
      ],
      "source": [
        "# Load CIFAR-10 dataset\n",
        "train_dataset = torchvision.datasets.CIFAR10(root='./data', train = True, download = True, transform = transform)\n",
        "test_dataset = torchvision.datasets.CIFAR10(root='./data',train=False,download=True,transform=transform)\n",
        "\n",
        "# print(train_dataset)\n",
        "# print(test_dataset)"
      ]
    },
    {
      "cell_type": "code",
      "execution_count": null,
      "metadata": {
        "id": "fiqJlNODEOXT"
      },
      "outputs": [],
      "source": [
        "train_loader = DataLoader(train_dataset,batch_size=batch_size,shuffle=True)\n",
        "test_loader = DataLoader(test_dataset,batch_size=batch_size,shuffle=False)\n",
        "\n",
        "# print(\"Train\",train_loader)\n",
        "# print(\"Test\",test_loader)"
      ]
    },
    {
      "cell_type": "code",
      "execution_count": null,
      "metadata": {
        "id": "Onrq9dW_Eusb"
      },
      "outputs": [],
      "source": [
        "#Define CNN Model\n",
        "\n",
        "class SimpleCNN(nn.Module):\n",
        "    def __init__(self):\n",
        "        super(SimpleCNN,self).__init__()\n",
        "        self.conv1 = nn.Conv2d(in_channels=3,out_channels=32,kernel_size=3,padding=1)#32 filters\n",
        "        self.conv2 = nn.Conv2d(in_channels=32,out_channels=64,kernel_size=3,padding=1)#64 filters\n",
        "        self.pool = nn.MaxPool2d(kernel_size=2,stride=2)\n",
        "        self.fc1 = nn.Linear(in_features=64*8*8,out_features=128)# Fully connected Layer\n",
        "        self.fc2 = nn.Linear(in_features=128,out_features=10) # 10classes\n",
        "\n",
        "    def forward(self,x):\n",
        "      x = self.pool(torch.relu(self.conv1(x)))\n",
        "      x = self.pool(torch.relu(self.conv2(x)))\n",
        "      x = x.view(-1,64*8*8) #flatten\n",
        "      x = torch.relu(self.fc1(x))\n",
        "      x = self.fc2(x)\n",
        "      return x"
      ]
    },
    {
      "cell_type": "code",
      "execution_count": null,
      "metadata": {
        "colab": {
          "base_uri": "https://localhost:8080/"
        },
        "id": "VMrXk3llPLmo",
        "outputId": "d84d9bfc-30f3-40ec-d394-9ddf1baf04b3"
      },
      "outputs": [
        {
          "name": "stderr",
          "output_type": "stream",
          "text": [
            "/usr/local/lib/python3.10/dist-packages/torchvision/models/_utils.py:208: UserWarning: The parameter 'pretrained' is deprecated since 0.13 and may be removed in the future, please use 'weights' instead.\n",
            "  warnings.warn(\n",
            "/usr/local/lib/python3.10/dist-packages/torchvision/models/_utils.py:223: UserWarning: Arguments other than a weight enum or `None` for 'weights' are deprecated since 0.13 and may be removed in the future. The current behavior is equivalent to passing `weights=None`.\n",
            "  warnings.warn(msg)\n"
          ]
        }
      ],
      "source": [
        "class CIFAR10DenseNet(nn.Module):\n",
        "  def __init__(self):\n",
        "    super(CIFAR10DenseNet,self).__init__()\n",
        "    self.densenet = densenet121(pretrained=False)\n",
        "    self.densenet.classifier = nn.Linear(self.densenet.classifier.in_features,10)\n",
        "  def forward(self,x):\n",
        "    return self.densenet(x)\n",
        "\n",
        "model_densenet = CIFAR10DenseNet().to(device)"
      ]
    },
    {
      "cell_type": "code",
      "execution_count": null,
      "metadata": {
        "id": "JO4sedZLJUIm"
      },
      "outputs": [],
      "source": [
        "# Initialize model, loss funtion, and optimizer\n",
        "\n",
        "model = SimpleCNN()\n",
        "criterion = nn.CrossEntropyLoss()\n",
        "# print(\"Model\",model)\n",
        "# print(\"Model\",list(model.parameters()))\n",
        "optimizer = optim.Adam(model.parameters(),lr=learning_rate)\n",
        "\n",
        "optimizer = optim.Adam(model_densenet.parameters(), lr=learning_rate)\n"
      ]
    },
    {
      "cell_type": "markdown",
      "metadata": {
        "id": "Clq5nEgOPlSV"
      },
      "source": [
        "In this code:\n",
        "\n",
        "optimizer.zero_grad() ensures that gradients start fresh for each batch.\n",
        "loss.backward() calculates the gradients.\n",
        "optimizer.step() updates model parameters using these gradients."
      ]
    },
    {
      "cell_type": "code",
      "execution_count": null,
      "metadata": {
        "id": "b-dql6v7J4s7"
      },
      "outputs": [],
      "source": [
        "#trainung function\n",
        "def train(model,optimizer,loader):\n",
        "  model.train()  # Set the model to training mode\n",
        "  train_losses = []\n",
        "  for epoch in range(num_epochs):\n",
        "    running_loss =0.0\n",
        "    for images,labels in loader:  # Iterate over the training data\n",
        "      optimizer.zero_grad()    # Why we set this?\n",
        "      outputs = model(images)  #Forward Pass\n",
        "      loss = criterion(outputs,labels)  #Compute loss\n",
        "      loss.backward()               # Backpropagation: compute gradients\n",
        "      optimizer.step()              # Update model parameters\n",
        "      running_loss += loss.item()   # Accumulate loss\n",
        "  epoch_loss = running_loss/len(loader)  # Calculate average loss per batch\n",
        "  train_losses.append(epoch_loss)\n",
        "  print(f\"Epoch [{epoch + 1}/{num_epochs}], Loss: {epoch_loss:.4f}\")\n",
        "  return running_loss/len(loader)  # Return the average loss per batch"
      ]
    },
    {
      "cell_type": "code",
      "execution_count": null,
      "metadata": {
        "id": "UgoqDWrZOX5x"
      },
      "outputs": [],
      "source": [
        "#Evaluation Function\n",
        "def evaluate(model,loader):\n",
        "  model.eval()  # Set the model to evaluation mode\n",
        "  correct = 0  # Number of correct predictions\n",
        "  total = 0  # Total number of predictions\n",
        "  with torch.no_grad():  # No need to compute gradients during evaluation\n",
        "    for images,labels in loader:  # Iterate over the test data\n",
        "      outputs = model(images)  # Forward pass\n",
        "      _,predicted = torch.max(outputs,1)  # Get the predicted class\n",
        "      total += labels.size(0)  # Total number of labels\n",
        "      correct += (predicted == labels).sum().item()  # Number of correct predictions\n",
        "  accuracy = 100 * correct / total  # Calculate accuracy\n",
        "  return accuracy  # Return the accuracy\n"
      ]
    },
    {
      "cell_type": "code",
      "execution_count": null,
      "metadata": {
        "id": "BnqxUg6JSaLS"
      },
      "outputs": [],
      "source": [
        "def train_model(model, optimizer, num_epochs=num_epochs):\n",
        "    model.train()\n",
        "    train_losses = []\n",
        "    for epoch in range(num_epochs):\n",
        "        running_loss = 0.0\n",
        "        for images, labels in train_loader:\n",
        "            images, labels = images.to(device), labels.to(device)\n",
        "            optimizer.zero_grad()\n",
        "            outputs = model(images)\n",
        "            loss = criterion(outputs, labels)\n",
        "            loss.backward()\n",
        "            optimizer.step()\n",
        "            running_loss += loss.item()\n",
        "        epoch_loss = running_loss / len(train_loader)\n",
        "        train_losses.append(epoch_loss)\n",
        "        print(f\"Epoch [{epoch+1}/{num_epochs}], Loss: {epoch_loss:.4f}\")\n",
        "    return train_losses\n"
      ]
    },
    {
      "cell_type": "code",
      "execution_count": null,
      "metadata": {
        "id": "OnyvqXmpScM9"
      },
      "outputs": [],
      "source": [
        "def evaluate_model(model):\n",
        "    model.eval()\n",
        "    correct = 0\n",
        "    total = 0\n",
        "    with torch.no_grad():\n",
        "        for images, labels in test_loader:\n",
        "            images, labels = images.to(device), labels.to(device)\n",
        "            outputs = model(images)\n",
        "            _, predicted = torch.max(outputs, 1)\n",
        "            total += labels.size(0)\n",
        "            correct += (predicted == labels).sum().item()\n",
        "    accuracy = (correct / total) *100\n",
        "    return accuracy\n"
      ]
    },
    {
      "cell_type": "code",
      "execution_count": null,
      "metadata": {
        "colab": {
          "base_uri": "https://localhost:8080/"
        },
        "id": "4y3tM23jO6H6",
        "outputId": "e4281e79-1754-4141-b42a-7d3f9fd65d58"
      },
      "outputs": [
        {
          "name": "stdout",
          "output_type": "stream",
          "text": [
            "Epoch [1/5], Loss: 1.3646, Test Accuracy: 61.60%\n",
            "Epoch [2/5], Loss: 0.9844, Test Accuracy: 66.83%\n",
            "Epoch [3/5], Loss: 0.8257, Test Accuracy: 69.36%\n",
            "Epoch [4/5], Loss: 0.7111, Test Accuracy: 70.59%\n",
            "Epoch [5/5], Loss: 0.6138, Test Accuracy: 72.26%\n",
            "Training Complete\n"
          ]
        }
      ],
      "source": [
        "# Training loop\n",
        "\n",
        "for epoch in range(num_epochs):\n",
        "    train_loss = train(model, train_loader)\n",
        "    test_accuracy = evaluate(model, test_loader)\n",
        "    print(f\"Epoch [{epoch + 1}/{num_epochs}], Loss: {train_loss:.4f}, Test Accuracy: {test_accuracy * 100:.2f}%\")\n",
        "\n",
        "print(\"Training Complete\")"
      ]
    },
    {
      "cell_type": "code",
      "execution_count": null,
      "metadata": {
        "id": "jjiEAVPHMyaD"
      },
      "outputs": [],
      "source": [
        "import matplotlib.pyplot as plt\n",
        "\n",
        "model_metrics= {}\n",
        "\n",
        "def train_and_record(model,model_name):\n",
        "    optimizer = optim.Adam(model.parameters(), lr=learning_rate)\n",
        "    train_losses = train_model(model,optimizer)\n",
        "    accuracies =[]\n",
        "\n",
        "    for epoch in range(num_epochs):\n",
        "      accuracy = evaluate_model(model)\n",
        "      accuracies.append(accuracy)\n",
        "      print(f\"Epoch [{epoch + 1}/{num_epochs}], Accuracy: {accuracy:.2f}%\")\n",
        "\n",
        "    model_metrics[model_name] = {\n",
        "        'train_losses': train_losses,\n",
        "        'accuracies': accuracies\n",
        "    }\n"
      ]
    },
    {
      "cell_type": "code",
      "execution_count": null,
      "metadata": {
        "colab": {
          "background_save": true,
          "base_uri": "https://localhost:8080/"
        },
        "id": "ZFcbvpXsR9hf",
        "outputId": "c189ffc9-ea79-4202-a564-dd9b37fe39e2"
      },
      "outputs": [
        {
          "name": "stdout",
          "output_type": "stream",
          "text": [
            "Epoch [1/5], Loss: 1.5773\n",
            "Epoch [2/5], Loss: 1.2688\n",
            "Epoch [3/5], Loss: 1.1288\n",
            "Epoch [4/5], Loss: 1.0399\n",
            "Epoch [5/5], Loss: 0.9777\n",
            "Epoch [1/5], Accuracy: 66.19%\n",
            "Epoch [2/5], Accuracy: 65.93%\n",
            "Epoch [3/5], Accuracy: 66.47%\n",
            "Epoch [4/5], Accuracy: 65.97%\n",
            "Epoch [5/5], Accuracy: 65.74%\n"
          ]
        },
        {
          "name": "stderr",
          "output_type": "stream",
          "text": [
            "/usr/local/lib/python3.10/dist-packages/torchvision/models/_utils.py:208: UserWarning: The parameter 'pretrained' is deprecated since 0.13 and may be removed in the future, please use 'weights' instead.\n",
            "  warnings.warn(\n",
            "/usr/local/lib/python3.10/dist-packages/torchvision/models/_utils.py:223: UserWarning: Arguments other than a weight enum or `None` for 'weights' are deprecated since 0.13 and may be removed in the future. The current behavior is equivalent to passing `weights=None`.\n",
            "  warnings.warn(msg)\n"
          ]
        },
        {
          "name": "stdout",
          "output_type": "stream",
          "text": [
            "Epoch [1/5], Loss: 1.5196\n",
            "Epoch [2/5], Loss: 1.1371\n"
          ]
        }
      ],
      "source": [
        "# train each model and record their metrics\n",
        "\n",
        "train_and_record(SimpleCNN().to(device), 'SimpleCNN')\n",
        "train_and_record(CIFAR10DenseNet().to(device), 'DenseNet')"
      ]
    },
    {
      "cell_type": "code",
      "execution_count": null,
      "metadata": {
        "id": "SsEMUYTRSqmj"
      },
      "outputs": [],
      "source": [
        "# Plotting Training Loss for Each Model\n",
        "\n",
        "plt.figure(figsize=(10, 6))\n",
        "for model_name, metrics in model_metrics.items():\n",
        "    plt.plot(metrics['train_losses'], label = f\"{model_name} Train Loss\")\n",
        "plt.xlabel('Epoch')\n",
        "plt.ylabel('Loss')\n",
        "plt.title('Training Loss for Each Model')\n",
        "plt.legend()\n",
        "plt.show()\n",
        "\n",
        "\n",
        "#plotting Test Accuracy\n",
        "plt.figure(figsize=(10, 6))\n",
        "for model_name, metrics in model_metrics.items():\n",
        "    plt.plot(metrics['accuracies'], label = f\"{model_name} Test Accuracy\")\n",
        "plt.xlabel('Epoch')\n",
        "plt.ylabel('Accuracy')\n",
        "plt.title('Test Accuracy for Each Model')\n",
        "plt.legend()\n",
        "plt.show()"
      ]
    }
  ],
  "metadata": {
    "colab": {
      "provenance": []
    },
    "kernelspec": {
      "display_name": "Python 3",
      "name": "python3"
    },
    "language_info": {
      "name": "python"
    }
  },
  "nbformat": 4,
  "nbformat_minor": 0
}